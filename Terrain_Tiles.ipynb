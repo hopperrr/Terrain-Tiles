{
  "nbformat": 4,
  "nbformat_minor": 0,
  "metadata": {
    "colab": {
      "provenance": [],
      "authorship_tag": "ABX9TyMJtBIoH55aEtNVwt0W3opU",
      "include_colab_link": true
    },
    "kernelspec": {
      "name": "python3",
      "display_name": "Python 3"
    },
    "language_info": {
      "name": "python"
    }
  },
  "cells": [
    {
      "cell_type": "markdown",
      "metadata": {
        "id": "view-in-github",
        "colab_type": "text"
      },
      "source": [
        "<a href=\"https://colab.research.google.com/github/hopperrr/Terrain-Tiles/blob/main/Terrain_Tiles.ipynb\" target=\"_parent\"><img src=\"https://colab.research.google.com/assets/colab-badge.svg\" alt=\"Open In Colab\"/></a>"
      ]
    },
    {
      "cell_type": "code",
      "execution_count": null,
      "metadata": {
        "id": "RYFag9rVenw0"
      },
      "outputs": [],
      "source": [
        "#https://bertt.wordpress.com/2022/05/24/custom-maplibre-terrain-tiles/\n",
        "#Download url\n",
        "#Warp, using 3857 projection to 4326\n",
        "#https://apps.nationalmap.gov/lidar-explorer/#/\n",
        "#choose \"process\" and filter start at ground end at buildings\n",
        "#What I did next with this file:\n",
        "# Pulled in file and in QGIS, warped to EPSG 4326. Make the No Data value a value of \"0\".\n",
        "# Run \"fill no data\" - this fills in the gaps where there were trees and buildings."
      ]
    },
    {
      "cell_type": "code",
      "source": [
        "!git clone https://github.com/mapbox/mbutil.git\n",
        "!cd mbutil\n",
        "# get usage\n",
        "!/content/mbutil/mb-util -h"
      ],
      "metadata": {
        "id": "CRoJdIJSe6jA",
        "colab": {
          "base_uri": "https://localhost:8080/"
        },
        "outputId": "1e7d5263-f1fb-4bc5-dc50-62b5cc74f85b"
      },
      "execution_count": null,
      "outputs": [
        {
          "output_type": "stream",
          "name": "stdout",
          "text": [
            "Cloning into 'mbutil'...\n",
            "remote: Enumerating objects: 480, done.\u001b[K\n",
            "remote: Counting objects: 100% (4/4), done.\u001b[K\n",
            "remote: Compressing objects: 100% (4/4), done.\u001b[K\n",
            "remote: Total 480 (delta 0), reused 2 (delta 0), pack-reused 476\u001b[K\n",
            "Receiving objects: 100% (480/480), 1.36 MiB | 9.27 MiB/s, done.\n",
            "Resolving deltas: 100% (208/208), done.\n",
            "Usage: mb-util [options] input output\n",
            "    \n",
            "    Examples:\n",
            "\n",
            "    Export an mbtiles file to a directory of files:\n",
            "    $ mb-util world.mbtiles dumps # when the 2nd argument is \"dumps\", then dumps the metatdata.json\n",
            "\n",
            "    Export an mbtiles file to a directory of files:\n",
            "    $ mb-util world.mbtiles tiles # tiles must not already exist\n",
            "    \n",
            "    Import a directory of tiles into an mbtiles file:\n",
            "    $ mb-util tiles world.mbtiles # mbtiles file must not already exist\n",
            "\n",
            "Options:\n",
            "  -h, --help            show this help message and exit\n",
            "  --scheme=SCHEME       Tiling scheme of the tiles. Default is \"xyz\" (z/x/y), other options are\n",
            "                        \"tms\" which is also z/x/y but uses a flipped y coordinate, and \"wms\" which\n",
            "                        replicates the MapServer WMS TileCache directory structure\n",
            "                        \"z/000/000/x/000/000/y.png\"\n",
            "  --image_format=FORMAT\n",
            "                        The format of the image tiles, either png, jpg, webp or pbf\n",
            "  --grid_callback=CALLBACK\n",
            "                        Option to control JSONP callback for UTFGrid tiles. If grids are not used\n",
            "                        as JSONP, you can remove callbacks specifying --grid_callback=\"\"\n",
            "  --do_compression      Do mbtiles compression\n",
            "  --silent              Dictate whether the operations should run silently\n"
          ]
        }
      ]
    },
    {
      "cell_type": "code",
      "source": [
        "!git clone https://github.com/acalcutt/rio-rgbify.git\n",
        "%cd /content/rio-rgbify\n",
        "\n",
        "!pip install -e '.[test]'"
      ],
      "metadata": {
        "id": "qZaFUuysgnIu",
        "colab": {
          "base_uri": "https://localhost:8080/"
        },
        "outputId": "cd7f3e58-3fc9-404e-8025-a6bf628b40ca"
      },
      "execution_count": null,
      "outputs": [
        {
          "output_type": "stream",
          "name": "stdout",
          "text": [
            "Cloning into 'rio-rgbify'...\n",
            "remote: Enumerating objects: 388, done.\u001b[K\n",
            "remote: Counting objects: 100% (102/102), done.\u001b[K\n",
            "remote: Compressing objects: 100% (47/47), done.\u001b[K\n",
            "remote: Total 388 (delta 75), reused 71 (delta 55), pack-reused 286\u001b[K\n",
            "Receiving objects: 100% (388/388), 1.55 MiB | 15.85 MiB/s, done.\n",
            "Resolving deltas: 100% (224/224), done.\n",
            "/content/rio-rgbify\n",
            "Obtaining file:///content/rio-rgbify\n",
            "  Preparing metadata (setup.py) ... \u001b[?25l\u001b[?25hdone\n",
            "Requirement already satisfied: click in /usr/local/lib/python3.10/dist-packages (from rio-rgbify==0.4.1) (8.1.7)\n",
            "Collecting rasterio~=1.0 (from rio-rgbify==0.4.1)\n",
            "  Downloading rasterio-1.3.10-cp310-cp310-manylinux2014_x86_64.whl (21.5 MB)\n",
            "\u001b[2K     \u001b[90m━━━━━━━━━━━━━━━━━━━━━━━━━━━━━━━━━━━━━━━━\u001b[0m \u001b[32m21.5/21.5 MB\u001b[0m \u001b[31m42.7 MB/s\u001b[0m eta \u001b[36m0:00:00\u001b[0m\n",
            "\u001b[?25hCollecting rio-mucho (from rio-rgbify==0.4.1)\n",
            "  Downloading rio_mucho-1.0.0-py3-none-any.whl (5.8 kB)\n",
            "Requirement already satisfied: Pillow in /usr/local/lib/python3.10/dist-packages (from rio-rgbify==0.4.1) (9.4.0)\n",
            "Collecting mercantile (from rio-rgbify==0.4.1)\n",
            "  Downloading mercantile-1.2.1-py3-none-any.whl (14 kB)\n",
            "Requirement already satisfied: pytest in /usr/local/lib/python3.10/dist-packages (from rio-rgbify==0.4.1) (7.4.4)\n",
            "Collecting pytest-cov (from rio-rgbify==0.4.1)\n",
            "  Downloading pytest_cov-5.0.0-py3-none-any.whl (21 kB)\n",
            "Collecting codecov (from rio-rgbify==0.4.1)\n",
            "  Downloading codecov-2.1.13-py2.py3-none-any.whl (16 kB)\n",
            "Collecting hypothesis (from rio-rgbify==0.4.1)\n",
            "  Downloading hypothesis-6.102.6-py3-none-any.whl (462 kB)\n",
            "\u001b[2K     \u001b[90m━━━━━━━━━━━━━━━━━━━━━━━━━━━━━━━━━━━━━━━━\u001b[0m \u001b[32m462.9/462.9 kB\u001b[0m \u001b[31m20.7 MB/s\u001b[0m eta \u001b[36m0:00:00\u001b[0m\n",
            "\u001b[?25hCollecting raster_tester (from rio-rgbify==0.4.1)\n",
            "  Downloading raster-tester-0.11.0.tar.gz (6.9 kB)\n",
            "  Preparing metadata (setup.py) ... \u001b[?25l\u001b[?25hdone\n",
            "Collecting affine (from rasterio~=1.0->rio-rgbify==0.4.1)\n",
            "  Downloading affine-2.4.0-py3-none-any.whl (15 kB)\n",
            "Requirement already satisfied: attrs in /usr/local/lib/python3.10/dist-packages (from rasterio~=1.0->rio-rgbify==0.4.1) (23.2.0)\n",
            "Requirement already satisfied: certifi in /usr/local/lib/python3.10/dist-packages (from rasterio~=1.0->rio-rgbify==0.4.1) (2024.2.2)\n",
            "Requirement already satisfied: cligj>=0.5 in /usr/local/lib/python3.10/dist-packages (from rasterio~=1.0->rio-rgbify==0.4.1) (0.7.2)\n",
            "Requirement already satisfied: numpy in /usr/local/lib/python3.10/dist-packages (from rasterio~=1.0->rio-rgbify==0.4.1) (1.25.2)\n",
            "Collecting snuggs>=1.4.1 (from rasterio~=1.0->rio-rgbify==0.4.1)\n",
            "  Downloading snuggs-1.4.7-py3-none-any.whl (5.4 kB)\n",
            "Requirement already satisfied: click-plugins in /usr/local/lib/python3.10/dist-packages (from rasterio~=1.0->rio-rgbify==0.4.1) (1.1.1)\n",
            "Requirement already satisfied: setuptools in /usr/local/lib/python3.10/dist-packages (from rasterio~=1.0->rio-rgbify==0.4.1) (67.7.2)\n",
            "Requirement already satisfied: requests>=2.7.9 in /usr/local/lib/python3.10/dist-packages (from codecov->rio-rgbify==0.4.1) (2.31.0)\n",
            "Collecting coverage (from codecov->rio-rgbify==0.4.1)\n",
            "  Downloading coverage-7.5.2-cp310-cp310-manylinux_2_5_x86_64.manylinux1_x86_64.manylinux_2_17_x86_64.manylinux2014_x86_64.whl (231 kB)\n",
            "\u001b[2K     \u001b[90m━━━━━━━━━━━━━━━━━━━━━━━━━━━━━━━━━━━━━━━━\u001b[0m \u001b[32m231.6/231.6 kB\u001b[0m \u001b[31m22.2 MB/s\u001b[0m eta \u001b[36m0:00:00\u001b[0m\n",
            "\u001b[?25hRequirement already satisfied: sortedcontainers<3.0.0,>=2.1.0 in /usr/local/lib/python3.10/dist-packages (from hypothesis->rio-rgbify==0.4.1) (2.4.0)\n",
            "Requirement already satisfied: exceptiongroup>=1.0.0 in /usr/local/lib/python3.10/dist-packages (from hypothesis->rio-rgbify==0.4.1) (1.2.1)\n",
            "Requirement already satisfied: iniconfig in /usr/local/lib/python3.10/dist-packages (from pytest->rio-rgbify==0.4.1) (2.0.0)\n",
            "Requirement already satisfied: packaging in /usr/local/lib/python3.10/dist-packages (from pytest->rio-rgbify==0.4.1) (24.0)\n",
            "Requirement already satisfied: pluggy<2.0,>=0.12 in /usr/local/lib/python3.10/dist-packages (from pytest->rio-rgbify==0.4.1) (1.5.0)\n",
            "Requirement already satisfied: tomli>=1.0.0 in /usr/local/lib/python3.10/dist-packages (from pytest->rio-rgbify==0.4.1) (2.0.1)\n",
            "Requirement already satisfied: charset-normalizer<4,>=2 in /usr/local/lib/python3.10/dist-packages (from requests>=2.7.9->codecov->rio-rgbify==0.4.1) (3.3.2)\n",
            "Requirement already satisfied: idna<4,>=2.5 in /usr/local/lib/python3.10/dist-packages (from requests>=2.7.9->codecov->rio-rgbify==0.4.1) (3.7)\n",
            "Requirement already satisfied: urllib3<3,>=1.21.1 in /usr/local/lib/python3.10/dist-packages (from requests>=2.7.9->codecov->rio-rgbify==0.4.1) (2.0.7)\n",
            "Requirement already satisfied: pyparsing>=2.1.6 in /usr/local/lib/python3.10/dist-packages (from snuggs>=1.4.1->rasterio~=1.0->rio-rgbify==0.4.1) (3.1.2)\n",
            "Building wheels for collected packages: raster_tester\n",
            "  Building wheel for raster_tester (setup.py) ... \u001b[?25l\u001b[?25hdone\n",
            "  Created wheel for raster_tester: filename=raster_tester-0.11.0-py3-none-any.whl size=8394 sha256=449b85a1ed8409049711391760738fd06e53226840570210fc4657da9c26cca2\n",
            "  Stored in directory: /root/.cache/pip/wheels/ce/50/49/fa3184ce4f5410eb672902a028ee2d3dab62df330a44a7e24d\n",
            "Successfully built raster_tester\n",
            "Installing collected packages: snuggs, mercantile, hypothesis, coverage, affine, rasterio, codecov, rio-mucho, raster_tester, pytest-cov, rio-rgbify\n",
            "  Running setup.py develop for rio-rgbify\n",
            "Successfully installed affine-2.4.0 codecov-2.1.13 coverage-7.5.2 hypothesis-6.102.6 mercantile-1.2.1 pytest-cov-5.0.0 raster_tester-0.11.0 rasterio-1.3.10 rio-mucho-1.0.0 rio-rgbify-0.4.1 snuggs-1.4.7\n"
          ]
        }
      ]
    },
    {
      "cell_type": "code",
      "source": [
        "#!pip install rio-rgbify"
      ],
      "metadata": {
        "id": "5PWYZyl1fPo_"
      },
      "execution_count": null,
      "outputs": []
    },
    {
      "cell_type": "code",
      "source": [
        "!rio rgbify -b -10000 -i 0.1 --min-z 0 --max-z 18 -j 24 --format png /content/rio-rgbify/dem_4326b.tif output.mbtiles"
      ],
      "metadata": {
        "id": "ID4GoSeCfc2R"
      },
      "execution_count": null,
      "outputs": []
    },
    {
      "cell_type": "code",
      "source": [
        "!/content/mbutil/mb-util /content/rio-rgbify/output.mbtiles tiles"
      ],
      "metadata": {
        "id": "OBkSsMPjk3pz"
      },
      "execution_count": null,
      "outputs": []
    },
    {
      "cell_type": "code",
      "source": [
        "!apt install gdal-bin\n",
        "\n",
        "!gdalinfo --version"
      ],
      "metadata": {
        "id": "W6HGa-RUk-SQ"
      },
      "execution_count": null,
      "outputs": []
    },
    {
      "cell_type": "code",
      "source": [
        "# prompt: zip the file called. 'tiles'\n",
        "\n",
        "!zip -r tiles.zip tiles\n"
      ],
      "metadata": {
        "id": "fuOQOn17PZqm"
      },
      "execution_count": null,
      "outputs": []
    },
    {
      "cell_type": "code",
      "source": [
        "# prompt: delete a folder of files\n",
        "\n",
        "!rm -rf tiles\n"
      ],
      "metadata": {
        "id": "VnqTbpNn6qve"
      },
      "execution_count": null,
      "outputs": []
    }
  ]
}